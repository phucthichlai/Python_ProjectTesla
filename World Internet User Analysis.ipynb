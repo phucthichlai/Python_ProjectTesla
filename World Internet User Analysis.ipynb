{
 "cells": [
  {
   "cell_type": "code",
   "execution_count": 1,
   "id": "6d6b16e9",
   "metadata": {},
   "outputs": [],
   "source": [
    "import pandas as pd\n",
    "import matplotlib.pyplot as plt"
   ]
  },
  {
   "cell_type": "markdown",
   "id": "b1eaea27",
   "metadata": {},
   "source": [
    "<h3> 1. Data Collection </h3>"
   ]
  },
  {
   "cell_type": "code",
   "execution_count": 2,
   "id": "ec686de6",
   "metadata": {},
   "outputs": [],
   "source": [
    "data = pd.read_csv(\"/Users/dobaophuc/Downloads/world_internet_user.csv\", encoding=\"latin1\")"
   ]
  },
  {
   "cell_type": "markdown",
   "id": "f8d9d8b8",
   "metadata": {},
   "source": [
    "<h3> 2. Data Cleaning </h3>"
   ]
  },
  {
   "cell_type": "code",
   "execution_count": 3,
   "id": "595e2818",
   "metadata": {},
   "outputs": [
    {
     "data": {
      "text/plain": [
       "<bound method DataFrame.info of              Country       Region  Population  Internet Users  % of Population\n",
       "0             _World          NaN  7920539977      5424080321            68.48\n",
       "1         Afganistan         Asia    40403518         9237489            22.86\n",
       "2            Albania       Europe     2872758         2191467            76.28\n",
       "3            Algeria       Africa    45150879        37836425            83.80\n",
       "4     American Samoa      Oceania       54995           34800            63.28\n",
       "..               ...          ...         ...             ...              ...\n",
       "238  Wallis & Futuna      Oceania       10932            6200            56.71\n",
       "239   Western Sahara       Africa      611875           28000             4.58\n",
       "240            Yemen  Middle East    30938435         8353377            27.00\n",
       "241           Zambia       Africa    18920651         9870427            52.17\n",
       "242         Zimbabwe       Africa    15092171         8400000            55.66\n",
       "\n",
       "[243 rows x 5 columns]>"
      ]
     },
     "execution_count": 3,
     "metadata": {},
     "output_type": "execute_result"
    }
   ],
   "source": [
    "data.info"
   ]
  },
  {
   "cell_type": "code",
   "execution_count": 4,
   "id": "57ba5451",
   "metadata": {},
   "outputs": [
    {
     "data": {
      "text/plain": [
       "False"
      ]
     },
     "execution_count": 4,
     "metadata": {},
     "output_type": "execute_result"
    }
   ],
   "source": [
    "data.duplicated().any() #check if any data is duplicated"
   ]
  },
  {
   "cell_type": "code",
   "execution_count": 5,
   "id": "e6b94cca",
   "metadata": {},
   "outputs": [
    {
     "data": {
      "text/plain": [
       "True"
      ]
     },
     "execution_count": 5,
     "metadata": {},
     "output_type": "execute_result"
    }
   ],
   "source": [
    "data.isnull().values.any() #check if any values are null"
   ]
  },
  {
   "cell_type": "code",
   "execution_count": 6,
   "id": "d9554692",
   "metadata": {},
   "outputs": [
    {
     "data": {
      "text/plain": [
       "Country            0\n",
       "Region             1\n",
       "Population         0\n",
       "Internet Users     0\n",
       "% of Population    0\n",
       "dtype: int64"
      ]
     },
     "execution_count": 6,
     "metadata": {},
     "output_type": "execute_result"
    }
   ],
   "source": [
    "data.isnull().sum() #The data \"World\" does not have Region value."
   ]
  },
  {
   "cell_type": "code",
   "execution_count": 7,
   "id": "e2c99376",
   "metadata": {},
   "outputs": [
    {
     "data": {
      "text/html": [
       "<div>\n",
       "<style scoped>\n",
       "    .dataframe tbody tr th:only-of-type {\n",
       "        vertical-align: middle;\n",
       "    }\n",
       "\n",
       "    .dataframe tbody tr th {\n",
       "        vertical-align: top;\n",
       "    }\n",
       "\n",
       "    .dataframe thead th {\n",
       "        text-align: right;\n",
       "    }\n",
       "</style>\n",
       "<table border=\"1\" class=\"dataframe\">\n",
       "  <thead>\n",
       "    <tr style=\"text-align: right;\">\n",
       "      <th></th>\n",
       "      <th>Country</th>\n",
       "      <th>Region</th>\n",
       "      <th>Population</th>\n",
       "      <th>Internet Users</th>\n",
       "      <th>% of Population</th>\n",
       "    </tr>\n",
       "  </thead>\n",
       "  <tbody>\n",
       "    <tr>\n",
       "      <th>0</th>\n",
       "      <td>_World</td>\n",
       "      <td>0</td>\n",
       "      <td>7920539977</td>\n",
       "      <td>5424080321</td>\n",
       "      <td>68.48</td>\n",
       "    </tr>\n",
       "    <tr>\n",
       "      <th>1</th>\n",
       "      <td>Afganistan</td>\n",
       "      <td>Asia</td>\n",
       "      <td>40403518</td>\n",
       "      <td>9237489</td>\n",
       "      <td>22.86</td>\n",
       "    </tr>\n",
       "    <tr>\n",
       "      <th>2</th>\n",
       "      <td>Albania</td>\n",
       "      <td>Europe</td>\n",
       "      <td>2872758</td>\n",
       "      <td>2191467</td>\n",
       "      <td>76.28</td>\n",
       "    </tr>\n",
       "    <tr>\n",
       "      <th>3</th>\n",
       "      <td>Algeria</td>\n",
       "      <td>Africa</td>\n",
       "      <td>45150879</td>\n",
       "      <td>37836425</td>\n",
       "      <td>83.80</td>\n",
       "    </tr>\n",
       "    <tr>\n",
       "      <th>4</th>\n",
       "      <td>American Samoa</td>\n",
       "      <td>Oceania</td>\n",
       "      <td>54995</td>\n",
       "      <td>34800</td>\n",
       "      <td>63.28</td>\n",
       "    </tr>\n",
       "    <tr>\n",
       "      <th>...</th>\n",
       "      <td>...</td>\n",
       "      <td>...</td>\n",
       "      <td>...</td>\n",
       "      <td>...</td>\n",
       "      <td>...</td>\n",
       "    </tr>\n",
       "    <tr>\n",
       "      <th>238</th>\n",
       "      <td>Wallis &amp; Futuna</td>\n",
       "      <td>Oceania</td>\n",
       "      <td>10932</td>\n",
       "      <td>6200</td>\n",
       "      <td>56.71</td>\n",
       "    </tr>\n",
       "    <tr>\n",
       "      <th>239</th>\n",
       "      <td>Western Sahara</td>\n",
       "      <td>Africa</td>\n",
       "      <td>611875</td>\n",
       "      <td>28000</td>\n",
       "      <td>4.58</td>\n",
       "    </tr>\n",
       "    <tr>\n",
       "      <th>240</th>\n",
       "      <td>Yemen</td>\n",
       "      <td>Middle East</td>\n",
       "      <td>30938435</td>\n",
       "      <td>8353377</td>\n",
       "      <td>27.00</td>\n",
       "    </tr>\n",
       "    <tr>\n",
       "      <th>241</th>\n",
       "      <td>Zambia</td>\n",
       "      <td>Africa</td>\n",
       "      <td>18920651</td>\n",
       "      <td>9870427</td>\n",
       "      <td>52.17</td>\n",
       "    </tr>\n",
       "    <tr>\n",
       "      <th>242</th>\n",
       "      <td>Zimbabwe</td>\n",
       "      <td>Africa</td>\n",
       "      <td>15092171</td>\n",
       "      <td>8400000</td>\n",
       "      <td>55.66</td>\n",
       "    </tr>\n",
       "  </tbody>\n",
       "</table>\n",
       "<p>243 rows × 5 columns</p>\n",
       "</div>"
      ],
      "text/plain": [
       "             Country       Region  Population  Internet Users  % of Population\n",
       "0             _World            0  7920539977      5424080321            68.48\n",
       "1         Afganistan         Asia    40403518         9237489            22.86\n",
       "2            Albania       Europe     2872758         2191467            76.28\n",
       "3            Algeria       Africa    45150879        37836425            83.80\n",
       "4     American Samoa      Oceania       54995           34800            63.28\n",
       "..               ...          ...         ...             ...              ...\n",
       "238  Wallis & Futuna      Oceania       10932            6200            56.71\n",
       "239   Western Sahara       Africa      611875           28000             4.58\n",
       "240            Yemen  Middle East    30938435         8353377            27.00\n",
       "241           Zambia       Africa    18920651         9870427            52.17\n",
       "242         Zimbabwe       Africa    15092171         8400000            55.66\n",
       "\n",
       "[243 rows x 5 columns]"
      ]
     },
     "execution_count": 7,
     "metadata": {},
     "output_type": "execute_result"
    }
   ],
   "source": [
    "data.fillna(0) #fill missing value with number 0"
   ]
  },
  {
   "cell_type": "markdown",
   "id": "bfdf0d41",
   "metadata": {},
   "source": [
    "<h3> 3. Data preprocessing</h3>"
   ]
  },
  {
   "cell_type": "code",
   "execution_count": 8,
   "id": "faf3eb96",
   "metadata": {},
   "outputs": [
    {
     "data": {
      "text/plain": [
       "Africa         58\n",
       "America        55\n",
       "Europe         53\n",
       "Asia           35\n",
       "Oceania        27\n",
       "Middle East    14\n",
       "Name: Region, dtype: int64"
      ]
     },
     "execution_count": 8,
     "metadata": {},
     "output_type": "execute_result"
    }
   ],
   "source": [
    "data['Region'].value_counts()"
   ]
  },
  {
   "cell_type": "code",
   "execution_count": 9,
   "id": "c2a0b412",
   "metadata": {},
   "outputs": [
    {
     "data": {
      "text/plain": [
       "Text(0, 0.5, 'Count')"
      ]
     },
     "execution_count": 9,
     "metadata": {},
     "output_type": "execute_result"
    },
    {
     "data": {
      "image/png": "[encoded data removed]",
      "text/plain": [
       "<Figure size 640x480 with 1 Axes>"
      ]
     },
     "metadata": {},
     "output_type": "display_data"
    }
   ],
   "source": [
    "data['Region'].value_counts().plot(kind=\"bar\")\n",
    "plt.title('Country Counts')\n",
    "plt.xlabel('Region')\n",
    "plt.ylabel('Count')"
   ]
  },
  {
   "cell_type": "code",
   "execution_count": 10,
   "id": "a8bfde13",
   "metadata": {},
   "outputs": [
    {
     "data": {
      "image/png": "[encoded data removed]",
      "text/plain": [
       "<Figure size 640x480 with 1 Axes>"
      ]
     },
     "metadata": {},
     "output_type": "display_data"
    }
   ],
   "source": [
    "Region = ('Africa','America','Europe','Asia','Oceania','Middle East')\n",
    "counts = (58,55,53,35,27,14)\n",
    "colors = ('#ADD8E6','#E3CF57','#FFF5EE', '#FFD51F', '#E67F0D', '#D53032')\n",
    "plt.pie(\n",
    "counts,\n",
    "labels = Region,\n",
    "colors= colors,\n",
    "autopct = '%1.1f%%',\n",
    "shadow = True)\n",
    "plt.show()"
   ]
  },
  {
   "cell_type": "code",
   "execution_count": 11,
   "id": "5c78116f",
   "metadata": {},
   "outputs": [
    {
     "data": {
      "text/html": [
       "<div>\n",
       "<style scoped>\n",
       "    .dataframe tbody tr th:only-of-type {\n",
       "        vertical-align: middle;\n",
       "    }\n",
       "\n",
       "    .dataframe tbody tr th {\n",
       "        vertical-align: top;\n",
       "    }\n",
       "\n",
       "    .dataframe thead th {\n",
       "        text-align: right;\n",
       "    }\n",
       "</style>\n",
       "<table border=\"1\" class=\"dataframe\">\n",
       "  <thead>\n",
       "    <tr style=\"text-align: right;\">\n",
       "      <th></th>\n",
       "      <th>Country</th>\n",
       "      <th>Region</th>\n",
       "      <th>Population</th>\n",
       "      <th>Internet_Users</th>\n",
       "      <th>IU_Percentage</th>\n",
       "    </tr>\n",
       "  </thead>\n",
       "  <tbody>\n",
       "    <tr>\n",
       "      <th>0</th>\n",
       "      <td>_World</td>\n",
       "      <td>NaN</td>\n",
       "      <td>7920539977</td>\n",
       "      <td>5424080321</td>\n",
       "      <td>68.48</td>\n",
       "    </tr>\n",
       "    <tr>\n",
       "      <th>1</th>\n",
       "      <td>Afganistan</td>\n",
       "      <td>Asia</td>\n",
       "      <td>40403518</td>\n",
       "      <td>9237489</td>\n",
       "      <td>22.86</td>\n",
       "    </tr>\n",
       "    <tr>\n",
       "      <th>2</th>\n",
       "      <td>Albania</td>\n",
       "      <td>Europe</td>\n",
       "      <td>2872758</td>\n",
       "      <td>2191467</td>\n",
       "      <td>76.28</td>\n",
       "    </tr>\n",
       "    <tr>\n",
       "      <th>3</th>\n",
       "      <td>Algeria</td>\n",
       "      <td>Africa</td>\n",
       "      <td>45150879</td>\n",
       "      <td>37836425</td>\n",
       "      <td>83.80</td>\n",
       "    </tr>\n",
       "    <tr>\n",
       "      <th>4</th>\n",
       "      <td>American Samoa</td>\n",
       "      <td>Oceania</td>\n",
       "      <td>54995</td>\n",
       "      <td>34800</td>\n",
       "      <td>63.28</td>\n",
       "    </tr>\n",
       "  </tbody>\n",
       "</table>\n",
       "</div>"
      ],
      "text/plain": [
       "          Country   Region  Population  Internet_Users  IU_Percentage\n",
       "0          _World      NaN  7920539977      5424080321          68.48\n",
       "1      Afganistan     Asia    40403518         9237489          22.86\n",
       "2         Albania   Europe     2872758         2191467          76.28\n",
       "3         Algeria   Africa    45150879        37836425          83.80\n",
       "4  American Samoa  Oceania       54995           34800          63.28"
      ]
     },
     "execution_count": 11,
     "metadata": {},
     "output_type": "execute_result"
    }
   ],
   "source": [
    "#Country with most Internet User Percentage\n",
    "data.rename(columns ={'Internet Users':'Internet_Users', '% of Population':'IU_Percentage'}, inplace = True)\n",
    "data.head()"
   ]
  },
  {
   "cell_type": "markdown",
   "id": "66180c61",
   "metadata": {},
   "source": [
    "<h3>4. Data Analysis and Visualization</h3>\n",
    "<h4> Bar graph of IU percentage avarage by regions</h4>"
   ]
  },
  {
   "cell_type": "code",
   "execution_count": 12,
   "id": "cf295194",
   "metadata": {},
   "outputs": [
    {
     "name": "stderr",
     "output_type": "stream",
     "text": [
      "/var/folders/zl/2tq_gym54j93bt895yh1qct00000gn/T/ipykernel_5522/2929268063.py:1: SettingWithCopyWarning: \n",
      "A value is trying to be set on a copy of a slice from a DataFrame\n",
      "\n",
      "See the caveats in the documentation: https://pandas.pydata.org/pandas-docs/stable/user_guide/indexing.html#returning-a-view-versus-a-copy\n",
      "  data.Region[data.Country == '_World'] = 'World'\n"
     ]
    },
    {
     "data": {
      "text/html": [
       "<div>\n",
       "<style scoped>\n",
       "    .dataframe tbody tr th:only-of-type {\n",
       "        vertical-align: middle;\n",
       "    }\n",
       "\n",
       "    .dataframe tbody tr th {\n",
       "        vertical-align: top;\n",
       "    }\n",
       "\n",
       "    .dataframe thead th {\n",
       "        text-align: right;\n",
       "    }\n",
       "</style>\n",
       "<table border=\"1\" class=\"dataframe\">\n",
       "  <thead>\n",
       "    <tr style=\"text-align: right;\">\n",
       "      <th></th>\n",
       "      <th>Country</th>\n",
       "      <th>Region</th>\n",
       "      <th>Population</th>\n",
       "      <th>Internet_Users</th>\n",
       "      <th>IU_Percentage</th>\n",
       "    </tr>\n",
       "  </thead>\n",
       "  <tbody>\n",
       "    <tr>\n",
       "      <th>0</th>\n",
       "      <td>_World</td>\n",
       "      <td>World</td>\n",
       "      <td>7920539977</td>\n",
       "      <td>5424080321</td>\n",
       "      <td>68.48</td>\n",
       "    </tr>\n",
       "    <tr>\n",
       "      <th>1</th>\n",
       "      <td>Afganistan</td>\n",
       "      <td>Asia</td>\n",
       "      <td>40403518</td>\n",
       "      <td>9237489</td>\n",
       "      <td>22.86</td>\n",
       "    </tr>\n",
       "    <tr>\n",
       "      <th>2</th>\n",
       "      <td>Albania</td>\n",
       "      <td>Europe</td>\n",
       "      <td>2872758</td>\n",
       "      <td>2191467</td>\n",
       "      <td>76.28</td>\n",
       "    </tr>\n",
       "    <tr>\n",
       "      <th>3</th>\n",
       "      <td>Algeria</td>\n",
       "      <td>Africa</td>\n",
       "      <td>45150879</td>\n",
       "      <td>37836425</td>\n",
       "      <td>83.80</td>\n",
       "    </tr>\n",
       "    <tr>\n",
       "      <th>4</th>\n",
       "      <td>American Samoa</td>\n",
       "      <td>Oceania</td>\n",
       "      <td>54995</td>\n",
       "      <td>34800</td>\n",
       "      <td>63.28</td>\n",
       "    </tr>\n",
       "  </tbody>\n",
       "</table>\n",
       "</div>"
      ],
      "text/plain": [
       "          Country   Region  Population  Internet_Users  IU_Percentage\n",
       "0          _World    World  7920539977      5424080321          68.48\n",
       "1      Afganistan     Asia    40403518         9237489          22.86\n",
       "2         Albania   Europe     2872758         2191467          76.28\n",
       "3         Algeria   Africa    45150879        37836425          83.80\n",
       "4  American Samoa  Oceania       54995           34800          63.28"
      ]
     },
     "execution_count": 12,
     "metadata": {},
     "output_type": "execute_result"
    }
   ],
   "source": [
    "data.Region[data.Country == '_World'] = 'World'\n",
    "data.head()"
   ]
  },
  {
   "cell_type": "code",
   "execution_count": 13,
   "id": "f8c0688d",
   "metadata": {},
   "outputs": [
    {
     "data": {
      "text/html": [
       "<div>\n",
       "<style scoped>\n",
       "    .dataframe tbody tr th:only-of-type {\n",
       "        vertical-align: middle;\n",
       "    }\n",
       "\n",
       "    .dataframe tbody tr th {\n",
       "        vertical-align: top;\n",
       "    }\n",
       "\n",
       "    .dataframe thead th {\n",
       "        text-align: right;\n",
       "    }\n",
       "</style>\n",
       "<table border=\"1\" class=\"dataframe\">\n",
       "  <thead>\n",
       "    <tr style=\"text-align: right;\">\n",
       "      <th></th>\n",
       "      <th>IU_Percentage</th>\n",
       "      <th>Internet_Users</th>\n",
       "      <th>Population</th>\n",
       "    </tr>\n",
       "    <tr>\n",
       "      <th>Region</th>\n",
       "      <th></th>\n",
       "      <th></th>\n",
       "      <th></th>\n",
       "    </tr>\n",
       "  </thead>\n",
       "  <tbody>\n",
       "    <tr>\n",
       "      <th>Africa</th>\n",
       "      <td>38.097931</td>\n",
       "      <td>1.036845e+07</td>\n",
       "      <td>2.385330e+07</td>\n",
       "    </tr>\n",
       "    <tr>\n",
       "      <th>America</th>\n",
       "      <td>80.781455</td>\n",
       "      <td>1.623539e+07</td>\n",
       "      <td>1.882772e+07</td>\n",
       "    </tr>\n",
       "    <tr>\n",
       "      <th>Asia</th>\n",
       "      <td>70.911143</td>\n",
       "      <td>8.382533e+07</td>\n",
       "      <td>1.243477e+08</td>\n",
       "    </tr>\n",
       "    <tr>\n",
       "      <th>Europe</th>\n",
       "      <td>89.757925</td>\n",
       "      <td>1.416596e+07</td>\n",
       "      <td>1.580102e+07</td>\n",
       "    </tr>\n",
       "    <tr>\n",
       "      <th>Middle East</th>\n",
       "      <td>85.135000</td>\n",
       "      <td>1.527783e+07</td>\n",
       "      <td>1.916449e+07</td>\n",
       "    </tr>\n",
       "    <tr>\n",
       "      <th>Oceania</th>\n",
       "      <td>68.101481</td>\n",
       "      <td>1.155254e+06</td>\n",
       "      <td>1.614710e+06</td>\n",
       "    </tr>\n",
       "    <tr>\n",
       "      <th>World</th>\n",
       "      <td>68.480000</td>\n",
       "      <td>5.424080e+09</td>\n",
       "      <td>7.920540e+09</td>\n",
       "    </tr>\n",
       "  </tbody>\n",
       "</table>\n",
       "</div>"
      ],
      "text/plain": [
       "             IU_Percentage  Internet_Users    Population\n",
       "Region                                                  \n",
       "Africa           38.097931    1.036845e+07  2.385330e+07\n",
       "America          80.781455    1.623539e+07  1.882772e+07\n",
       "Asia             70.911143    8.382533e+07  1.243477e+08\n",
       "Europe           89.757925    1.416596e+07  1.580102e+07\n",
       "Middle East      85.135000    1.527783e+07  1.916449e+07\n",
       "Oceania          68.101481    1.155254e+06  1.614710e+06\n",
       "World            68.480000    5.424080e+09  7.920540e+09"
      ]
     },
     "execution_count": 13,
     "metadata": {},
     "output_type": "execute_result"
    }
   ],
   "source": [
    "IURegion = pd.pivot_table(data,values = ['Population','Internet_Users','IU_Percentage'], index='Region', aggfunc= 'mean')\n",
    "IURegion.sort_values(by = 'IU_Percentage', ascending = True)\n",
    "IURegion"
   ]
  },
  {
   "cell_type": "code",
   "execution_count": 14,
   "id": "fc25f959",
   "metadata": {},
   "outputs": [
    {
     "data": {
      "image/png": "[encoded data removed]",
      "text/plain": [
       "<Figure size 640x480 with 1 Axes>"
      ]
     },
     "metadata": {},
     "output_type": "display_data"
    }
   ],
   "source": [
    "IURegion['IU_Percentage'].plot(kind = 'bar')\n",
    "plt.title('Internet User Percentage by Regions')\n",
    "plt.xlabel('Region')\n",
    "plt.ylabel('Percentage')\n",
    "plt.show()"
   ]
  },
  {
   "cell_type": "markdown",
   "id": "27c7d58a",
   "metadata": {},
   "source": [
    "<h4> Boxplots of Internet User Distribution by Regions </h4>"
   ]
  },
  {
   "cell_type": "code",
   "execution_count": 15,
   "id": "d7b30b96",
   "metadata": {},
   "outputs": [],
   "source": [
    "d = data.drop(0)"
   ]
  },
  {
   "cell_type": "code",
   "execution_count": 16,
   "id": "7affc390",
   "metadata": {},
   "outputs": [
    {
     "data": {
      "image/png": "[encoded data removed]",
      "text/plain": [
       "<Figure size 640x480 with 1 Axes>"
      ]
     },
     "metadata": {},
     "output_type": "display_data"
    }
   ],
   "source": [
    "b1 = ['IU_Percentage']\n",
    "\n",
    "boxplot = d.boxplot(b1)  \n",
    "plt.xticks(rotation=90)\n",
    "plt.title(\"World's IU Distribution\")\n",
    "plt.show()"
   ]
  },
  {
   "cell_type": "code",
   "execution_count": 17,
   "id": "1adfeab6",
   "metadata": {},
   "outputs": [
    {
     "data": {
      "image/png": "[encoded data removed]",
      "text/plain": [
       "<Figure size 640x480 with 1 Axes>"
      ]
     },
     "metadata": {},
     "output_type": "display_data"
    }
   ],
   "source": [
    "boxplot = d[d['Region'] == 'Asia'].boxplot(b1)  \n",
    "plt.xticks(rotation=90)\n",
    "plt.title(\"Asia IU Distribution\")\n",
    "plt.show()"
   ]
  },
  {
   "cell_type": "markdown",
   "id": "9cf12660",
   "metadata": {},
   "source": [
    "<p> * The IU percentage in Asia nearly resembles that of the world's figure</p>"
   ]
  },
  {
   "cell_type": "code",
   "execution_count": 18,
   "id": "c0ee5512",
   "metadata": {},
   "outputs": [
    {
     "data": {
      "image/png": "[encoded data removed]",
      "text/plain": [
       "<Figure size 640x480 with 1 Axes>"
      ]
     },
     "metadata": {},
     "output_type": "display_data"
    }
   ],
   "source": [
    "boxplot = d[d['Region'] == 'Africa'].boxplot(b1)  \n",
    "plt.xticks(rotation=90)\n",
    "plt.title(\"Africa IU Distribution\")\n",
    "plt.show()"
   ]
  },
  {
   "cell_type": "markdown",
   "id": "9237ead3",
   "metadata": {},
   "source": [
    "<p> * The IU percentage in Africa is still far below the world's level, with <strong>more than 75%</strong> countries having less than <strong>60%</strong> of population using the Internet</p>"
   ]
  },
  {
   "cell_type": "code",
   "execution_count": 19,
   "id": "504f8cf3",
   "metadata": {},
   "outputs": [
    {
     "data": {
      "image/png": "[encoded data removed]",
      "text/plain": [
       "<Figure size 640x480 with 1 Axes>"
      ]
     },
     "metadata": {},
     "output_type": "display_data"
    }
   ],
   "source": [
    "boxplot = d[d['Region'] == 'America'].boxplot(b1)  \n",
    "plt.xticks(rotation=90)\n",
    "plt.title(\"America IU Distribution\")\n",
    "plt.show()"
   ]
  },
  {
   "cell_type": "code",
   "execution_count": 20,
   "id": "6ed800ac",
   "metadata": {},
   "outputs": [
    {
     "data": {
      "image/png": "[encoded data removed]",
      "text/plain": [
       "<Figure size 640x480 with 1 Axes>"
      ]
     },
     "metadata": {},
     "output_type": "display_data"
    }
   ],
   "source": [
    "boxplot = d[d['Region'] == 'Oceania'].boxplot(b1)  \n",
    "plt.xticks(rotation=90)\n",
    "plt.title(\"Oceania IU Distribution\")\n",
    "plt.show()"
   ]
  },
  {
   "cell_type": "code",
   "execution_count": 21,
   "id": "b04390fd",
   "metadata": {},
   "outputs": [
    {
     "data": {
      "image/png": "[encoded data removed]",
      "text/plain": [
       "<Figure size 640x480 with 1 Axes>"
      ]
     },
     "metadata": {},
     "output_type": "display_data"
    }
   ],
   "source": [
    "boxplot = d[d['Region'] == 'Europe'].boxplot(b1)  \n",
    "plt.xticks(rotation=90)\n",
    "plt.title(\"Europe IU Distribution\")\n",
    "plt.show()"
   ]
  },
  {
   "cell_type": "code",
   "execution_count": 22,
   "id": "5576e7c0",
   "metadata": {},
   "outputs": [
    {
     "data": {
      "image/png": "[encoded data removed]",
      "text/plain": [
       "<Figure size 640x480 with 1 Axes>"
      ]
     },
     "metadata": {},
     "output_type": "display_data"
    }
   ],
   "source": [
    "boxplot = d[d['Region'] == 'Middle East'].boxplot(b1)  \n",
    "plt.xticks(rotation=90)\n",
    "plt.title(\"Middle East IU Distribution\")\n",
    "plt.show()"
   ]
  },
  {
   "cell_type": "markdown",
   "id": "fe10fbe0",
   "metadata": {
    "tags": [
     "hide_code"
    ]
   },
   "source": [
    "<h4> What is the country with the least Internet User Percentage? </h4>"
   ]
  },
  {
   "cell_type": "code",
   "execution_count": 23,
   "id": "1c65ea44",
   "metadata": {},
   "outputs": [
    {
     "data": {
      "text/html": [
       "<div>\n",
       "<style scoped>\n",
       "    .dataframe tbody tr th:only-of-type {\n",
       "        vertical-align: middle;\n",
       "    }\n",
       "\n",
       "    .dataframe tbody tr th {\n",
       "        vertical-align: top;\n",
       "    }\n",
       "\n",
       "    .dataframe thead th {\n",
       "        text-align: right;\n",
       "    }\n",
       "</style>\n",
       "<table border=\"1\" class=\"dataframe\">\n",
       "  <thead>\n",
       "    <tr style=\"text-align: right;\">\n",
       "      <th></th>\n",
       "      <th>Country</th>\n",
       "      <th>Region</th>\n",
       "      <th>Population</th>\n",
       "      <th>Internet_Users</th>\n",
       "      <th>IU_Percentage</th>\n",
       "    </tr>\n",
       "  </thead>\n",
       "  <tbody>\n",
       "    <tr>\n",
       "      <th>113</th>\n",
       "      <td>Korea, North</td>\n",
       "      <td>Asia</td>\n",
       "      <td>25961763</td>\n",
       "      <td>20000</td>\n",
       "      <td>0.08</td>\n",
       "    </tr>\n",
       "    <tr>\n",
       "      <th>239</th>\n",
       "      <td>Western Sahara</td>\n",
       "      <td>Africa</td>\n",
       "      <td>611875</td>\n",
       "      <td>28000</td>\n",
       "      <td>4.58</td>\n",
       "    </tr>\n",
       "    <tr>\n",
       "      <th>67</th>\n",
       "      <td>Eritrea</td>\n",
       "      <td>Africa</td>\n",
       "      <td>3626986</td>\n",
       "      <td>248199</td>\n",
       "      <td>6.84</td>\n",
       "    </tr>\n",
       "    <tr>\n",
       "      <th>198</th>\n",
       "      <td>South Sudan</td>\n",
       "      <td>Africa</td>\n",
       "      <td>11381378</td>\n",
       "      <td>900716</td>\n",
       "      <td>7.91</td>\n",
       "    </tr>\n",
       "    <tr>\n",
       "      <th>128</th>\n",
       "      <td>Madagascar</td>\n",
       "      <td>Africa</td>\n",
       "      <td>28427328</td>\n",
       "      <td>2864000</td>\n",
       "      <td>10.07</td>\n",
       "    </tr>\n",
       "  </tbody>\n",
       "</table>\n",
       "</div>"
      ],
      "text/plain": [
       "            Country  Region  Population  Internet_Users  IU_Percentage\n",
       "113    Korea, North    Asia    25961763           20000           0.08\n",
       "239  Western Sahara  Africa      611875           28000           4.58\n",
       "67          Eritrea  Africa     3626986          248199           6.84\n",
       "198     South Sudan  Africa    11381378          900716           7.91\n",
       "128      Madagascar  Africa    28427328         2864000          10.07"
      ]
     },
     "execution_count": 23,
     "metadata": {},
     "output_type": "execute_result"
    }
   ],
   "source": [
    "maxUI = d.sort_values('IU_Percentage', ascending = True)\n",
    "maxUI.head()"
   ]
  },
  {
   "cell_type": "markdown",
   "id": "0c488eeb",
   "metadata": {},
   "source": [
    "<p> - North Korea is the only Asian country in top 5 countries with the least Internet User Percentage, along with other 4 African countries. </p>\n",
    "<p> - More than <strong>99.9 percent</strong> of the country's population remained offline at the start of 2022. </p>\n",
    "<p> - According to <em>\"Digital 2022: North Korea\"</em> report from <strong>datareportal.com</strong>, only a few people in the country are able to access international websites, and it seems likely that a sizeable proportion of this small group will be made up of foreign expatriates and the country's political elite </p>"
   ]
  },
  {
   "cell_type": "markdown",
   "id": "7c5824c2",
   "metadata": {},
   "source": [
    "<h4> What is the country with the most Internet User Percentage? </h4>"
   ]
  },
  {
   "cell_type": "code",
   "execution_count": 24,
   "id": "cf7339aa",
   "metadata": {},
   "outputs": [
    {
     "data": {
      "text/html": [
       "<div>\n",
       "<style scoped>\n",
       "    .dataframe tbody tr th:only-of-type {\n",
       "        vertical-align: middle;\n",
       "    }\n",
       "\n",
       "    .dataframe tbody tr th {\n",
       "        vertical-align: top;\n",
       "    }\n",
       "\n",
       "    .dataframe thead th {\n",
       "        text-align: right;\n",
       "    }\n",
       "</style>\n",
       "<table border=\"1\" class=\"dataframe\">\n",
       "  <thead>\n",
       "    <tr style=\"text-align: right;\">\n",
       "      <th></th>\n",
       "      <th>Country</th>\n",
       "      <th>Region</th>\n",
       "      <th>Population</th>\n",
       "      <th>Internet_Users</th>\n",
       "      <th>IU_Percentage</th>\n",
       "    </tr>\n",
       "  </thead>\n",
       "  <tbody>\n",
       "    <tr>\n",
       "      <th>57</th>\n",
       "      <td>Cyprus</td>\n",
       "      <td>Europe</td>\n",
       "      <td>1221767</td>\n",
       "      <td>1320400</td>\n",
       "      <td>108.07</td>\n",
       "    </tr>\n",
       "    <tr>\n",
       "      <th>40</th>\n",
       "      <td>Cayman Islands</td>\n",
       "      <td>America</td>\n",
       "      <td>66990</td>\n",
       "      <td>73800</td>\n",
       "      <td>110.17</td>\n",
       "    </tr>\n",
       "    <tr>\n",
       "      <th>175</th>\n",
       "      <td>Puerto Rico</td>\n",
       "      <td>America</td>\n",
       "      <td>2747603</td>\n",
       "      <td>3047311</td>\n",
       "      <td>110.91</td>\n",
       "    </tr>\n",
       "    <tr>\n",
       "      <th>32</th>\n",
       "      <td>Brunei Darussulam</td>\n",
       "      <td>Asia</td>\n",
       "      <td>444336</td>\n",
       "      <td>531800</td>\n",
       "      <td>119.68</td>\n",
       "    </tr>\n",
       "    <tr>\n",
       "      <th>228</th>\n",
       "      <td>United Arab Emirates</td>\n",
       "      <td>Middle East</td>\n",
       "      <td>10088517</td>\n",
       "      <td>12176400</td>\n",
       "      <td>120.70</td>\n",
       "    </tr>\n",
       "  </tbody>\n",
       "</table>\n",
       "</div>"
      ],
      "text/plain": [
       "                  Country       Region  Population  Internet_Users  \\\n",
       "57                 Cyprus       Europe     1221767         1320400   \n",
       "40         Cayman Islands      America       66990           73800   \n",
       "175           Puerto Rico      America     2747603         3047311   \n",
       "32      Brunei Darussulam         Asia      444336          531800   \n",
       "228  United Arab Emirates  Middle East    10088517        12176400   \n",
       "\n",
       "     IU_Percentage  \n",
       "57          108.07  \n",
       "40          110.17  \n",
       "175         110.91  \n",
       "32          119.68  \n",
       "228         120.70  "
      ]
     },
     "execution_count": 24,
     "metadata": {},
     "output_type": "execute_result"
    }
   ],
   "source": [
    "maxUI.tail()"
   ]
  },
  {
   "cell_type": "code",
   "execution_count": 25,
   "id": "59b9b845",
   "metadata": {},
   "outputs": [
    {
     "data": {
      "text/html": [
       "<div>\n",
       "<style scoped>\n",
       "    .dataframe tbody tr th:only-of-type {\n",
       "        vertical-align: middle;\n",
       "    }\n",
       "\n",
       "    .dataframe tbody tr th {\n",
       "        vertical-align: top;\n",
       "    }\n",
       "\n",
       "    .dataframe thead th {\n",
       "        text-align: right;\n",
       "    }\n",
       "</style>\n",
       "<table border=\"1\" class=\"dataframe\">\n",
       "  <thead>\n",
       "    <tr style=\"text-align: right;\">\n",
       "      <th></th>\n",
       "      <th>Country</th>\n",
       "      <th>Region</th>\n",
       "      <th>Population</th>\n",
       "      <th>Internet_Users</th>\n",
       "      <th>IU_Percentage</th>\n",
       "    </tr>\n",
       "  </thead>\n",
       "  <tbody>\n",
       "    <tr>\n",
       "      <th>0</th>\n",
       "      <td>_World</td>\n",
       "      <td>World</td>\n",
       "      <td>7920539977</td>\n",
       "      <td>5424080321</td>\n",
       "      <td>68.48</td>\n",
       "    </tr>\n",
       "    <tr>\n",
       "      <th>1</th>\n",
       "      <td>Afganistan</td>\n",
       "      <td>Asia</td>\n",
       "      <td>40403518</td>\n",
       "      <td>9237489</td>\n",
       "      <td>22.86</td>\n",
       "    </tr>\n",
       "    <tr>\n",
       "      <th>2</th>\n",
       "      <td>Albania</td>\n",
       "      <td>Europe</td>\n",
       "      <td>2872758</td>\n",
       "      <td>2191467</td>\n",
       "      <td>76.28</td>\n",
       "    </tr>\n",
       "    <tr>\n",
       "      <th>3</th>\n",
       "      <td>Algeria</td>\n",
       "      <td>Africa</td>\n",
       "      <td>45150879</td>\n",
       "      <td>37836425</td>\n",
       "      <td>83.80</td>\n",
       "    </tr>\n",
       "    <tr>\n",
       "      <th>4</th>\n",
       "      <td>American Samoa</td>\n",
       "      <td>Oceania</td>\n",
       "      <td>54995</td>\n",
       "      <td>34800</td>\n",
       "      <td>63.28</td>\n",
       "    </tr>\n",
       "    <tr>\n",
       "      <th>...</th>\n",
       "      <td>...</td>\n",
       "      <td>...</td>\n",
       "      <td>...</td>\n",
       "      <td>...</td>\n",
       "      <td>...</td>\n",
       "    </tr>\n",
       "    <tr>\n",
       "      <th>238</th>\n",
       "      <td>Wallis &amp; Futuna</td>\n",
       "      <td>Oceania</td>\n",
       "      <td>10932</td>\n",
       "      <td>6200</td>\n",
       "      <td>56.71</td>\n",
       "    </tr>\n",
       "    <tr>\n",
       "      <th>239</th>\n",
       "      <td>Western Sahara</td>\n",
       "      <td>Africa</td>\n",
       "      <td>611875</td>\n",
       "      <td>28000</td>\n",
       "      <td>4.58</td>\n",
       "    </tr>\n",
       "    <tr>\n",
       "      <th>240</th>\n",
       "      <td>Yemen</td>\n",
       "      <td>Middle East</td>\n",
       "      <td>30938435</td>\n",
       "      <td>8353377</td>\n",
       "      <td>27.00</td>\n",
       "    </tr>\n",
       "    <tr>\n",
       "      <th>241</th>\n",
       "      <td>Zambia</td>\n",
       "      <td>Africa</td>\n",
       "      <td>18920651</td>\n",
       "      <td>9870427</td>\n",
       "      <td>52.17</td>\n",
       "    </tr>\n",
       "    <tr>\n",
       "      <th>242</th>\n",
       "      <td>Zimbabwe</td>\n",
       "      <td>Africa</td>\n",
       "      <td>15092171</td>\n",
       "      <td>8400000</td>\n",
       "      <td>55.66</td>\n",
       "    </tr>\n",
       "  </tbody>\n",
       "</table>\n",
       "<p>243 rows × 5 columns</p>\n",
       "</div>"
      ],
      "text/plain": [
       "             Country       Region  Population  Internet_Users  IU_Percentage\n",
       "0             _World        World  7920539977      5424080321          68.48\n",
       "1         Afganistan         Asia    40403518         9237489          22.86\n",
       "2            Albania       Europe     2872758         2191467          76.28\n",
       "3            Algeria       Africa    45150879        37836425          83.80\n",
       "4     American Samoa      Oceania       54995           34800          63.28\n",
       "..               ...          ...         ...             ...            ...\n",
       "238  Wallis & Futuna      Oceania       10932            6200          56.71\n",
       "239   Western Sahara       Africa      611875           28000           4.58\n",
       "240            Yemen  Middle East    30938435         8353377          27.00\n",
       "241           Zambia       Africa    18920651         9870427          52.17\n",
       "242         Zimbabwe       Africa    15092171         8400000          55.66\n",
       "\n",
       "[243 rows x 5 columns]"
      ]
     },
     "execution_count": 25,
     "metadata": {},
     "output_type": "execute_result"
    }
   ],
   "source": [
    "data"
   ]
  },
  {
   "cell_type": "markdown",
   "id": "8f8f140e",
   "metadata": {},
   "source": [
    "<h3>Thank you for watching!</h3>"
   ]
  },
  {
   "cell_type": "code",
   "execution_count": null,
   "id": "ffbafa24",
   "metadata": {},
   "outputs": [],
   "source": []
  }
 ],
 "metadata": {
  "kernelspec": {
   "display_name": "Python 3 (ipykernel)",
   "language": "python",
   "name": "python3"
  },
  "language_info": {
   "codemirror_mode": {
    "name": "ipython",
    "version": 3
   },
   "file_extension": ".py",
   "mimetype": "text/x-python",
   "name": "python",
   "nbconvert_exporter": "python",
   "pygments_lexer": "ipython3",
   "version": "3.11.1"
  }
 },
 "nbformat": 4,
 "nbformat_minor": 5
}
